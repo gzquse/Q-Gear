{
 "cells": [
  {
   "cell_type": "code",
   "execution_count": 1,
   "id": "a5405a18-ea93-4c01-a135-49b9049a6951",
   "metadata": {
    "tags": []
   },
   "outputs": [],
   "source": [
    "import cudaq"
   ]
  },
  {
   "cell_type": "code",
   "execution_count": 45,
   "id": "b472d9a0-f923-4121-abdd-4ca0a109f3f4",
   "metadata": {
    "tags": []
   },
   "outputs": [
    {
     "name": "stdout",
     "output_type": "stream",
     "text": [
      "['_QuakeValue__checkTypesAndCreateQuakeValue', '_QuakeValue__floatToVal', '_QuakeValue__intToFloat', '_QuakeValue__intToVal', '__add__', '__class__', '__delattr__', '__dict__', '__dir__', '__doc__', '__eq__', '__format__', '__ge__', '__getattribute__', '__getitem__', '__gt__', '__hash__', '__init__', '__init_subclass__', '__le__', '__lt__', '__module__', '__mul__', '__ne__', '__neg__', '__new__', '__radd__', '__reduce__', '__reduce_ex__', '__repr__', '__rmul__', '__rsub__', '__rtruediv__', '__setattr__', '__sizeof__', '__str__', '__sub__', '__subclasshook__', '__truediv__', '__weakref__', 'ctx', 'floatType', 'intType', 'knownUniqueExtractions', 'mlirValue', 'pyKernel', 'size', 'slice']\n"
     ]
    }
   ],
   "source": [
    "kernel, int_value, float_value = cudaq.make_kernel(int, float)\n",
    "print(dir(int_value))"
   ]
  },
  {
   "cell_type": "code",
   "execution_count": 2,
   "id": "86e94bf2-6509-4107-8933-2c20aedb2a7a",
   "metadata": {
    "tags": []
   },
   "outputs": [
    {
     "name": "stdout",
     "output_type": "stream",
     "text": [
      "Sun Jun 23 20:40:16 2024       \n",
      "+-----------------------------------------------------------------------------+\n",
      "| NVIDIA-SMI 525.105.17   Driver Version: 525.105.17   CUDA Version: 12.0     |\n",
      "|-------------------------------+----------------------+----------------------+\n",
      "| GPU  Name        Persistence-M| Bus-Id        Disp.A | Volatile Uncorr. ECC |\n",
      "| Fan  Temp  Perf  Pwr:Usage/Cap|         Memory-Usage | GPU-Util  Compute M. |\n",
      "|                               |                      |               MIG M. |\n",
      "|===============================+======================+======================|\n",
      "|   0  NVIDIA A100-SXM...  Off  | 00000000:03:00.0 Off |                    0 |\n",
      "| N/A   30C    P0    63W / 400W |    417MiB / 40960MiB |      0%      Default |\n",
      "|                               |                      |             Disabled |\n",
      "+-------------------------------+----------------------+----------------------+\n",
      "|   1  NVIDIA A100-SXM...  Off  | 00000000:41:00.0 Off |                    0 |\n",
      "| N/A   28C    P0    51W / 400W |      3MiB / 40960MiB |      0%      Default |\n",
      "|                               |                      |             Disabled |\n",
      "+-------------------------------+----------------------+----------------------+\n",
      "|   2  NVIDIA A100-SXM...  Off  | 00000000:82:00.0 Off |                    0 |\n",
      "| N/A   30C    P0    52W / 400W |      3MiB / 40960MiB |      0%      Default |\n",
      "|                               |                      |             Disabled |\n",
      "+-------------------------------+----------------------+----------------------+\n",
      "|   3  NVIDIA A100-SXM...  Off  | 00000000:C1:00.0 Off |                    0 |\n",
      "| N/A   29C    P0    51W / 400W |      3MiB / 40960MiB |      0%      Default |\n",
      "|                               |                      |             Disabled |\n",
      "+-------------------------------+----------------------+----------------------+\n",
      "                                                                               \n",
      "+-----------------------------------------------------------------------------+\n",
      "| Processes:                                                                  |\n",
      "|  GPU   GI   CI        PID   Type   Process name                  GPU Memory |\n",
      "|        ID   ID                                                   Usage      |\n",
      "|=============================================================================|\n",
      "|    0   N/A  N/A    216048      C   /opt/conda/bin/python             414MiB |\n",
      "+-----------------------------------------------------------------------------+\n"
     ]
    }
   ],
   "source": [
    "!nvidia-smi"
   ]
  },
  {
   "cell_type": "markdown",
   "id": "0fab5467-611f-407b-be98-e2bf3a6ac2ba",
   "metadata": {},
   "source": [
    "cpu 22 qubits"
   ]
  },
  {
   "cell_type": "code",
   "execution_count": 23,
   "id": "fc09fdfd-faa8-4291-916e-3b4c3af0b60e",
   "metadata": {
    "tags": []
   },
   "outputs": [
    {
     "name": "stdout",
     "output_type": "stream",
     "text": [
      "{ 0000000000000000000000:516 1111111111111111111111:484 }\n",
      "\n",
      "real\t0m4.962s\n",
      "user\t1m34.670s\n",
      "sys\t0m7.626s\n"
     ]
    }
   ],
   "source": [
    "!time python3 ghz.py"
   ]
  },
  {
   "cell_type": "markdown",
   "id": "11ea0f09-b594-4b2a-8be0-ef2ff409001f",
   "metadata": {},
   "source": [
    "single gpu 10 qubits"
   ]
  },
  {
   "cell_type": "code",
   "execution_count": 21,
   "id": "407b9f9b-887b-4a70-8a8d-5f693b2ca97c",
   "metadata": {
    "tags": []
   },
   "outputs": [
    {
     "name": "stdout",
     "output_type": "stream",
     "text": [
      "{ 0000000000:486 1111111111:514 }\n",
      "\n",
      "real\t0m4.306s\n",
      "user\t0m1.581s\n",
      "sys\t0m7.923s\n"
     ]
    }
   ],
   "source": [
    "!time python3 ghz.py"
   ]
  },
  {
   "cell_type": "code",
   "execution_count": null,
   "id": "117d07ff-0a39-475c-b321-b69338b55d5c",
   "metadata": {},
   "outputs": [],
   "source": []
  },
  {
   "cell_type": "code",
   "execution_count": 28,
   "id": "d3140713-98c0-4c92-893f-2ea57427e6cb",
   "metadata": {
    "tags": []
   },
   "outputs": [
    {
     "name": "stdout",
     "output_type": "stream",
     "text": [
      "Number of GPUs: 4\n",
      "Number of QPUs: 4\n"
     ]
    }
   ],
   "source": [
    "import cudaq\n",
    "\n",
    "\n",
    "cudaq.set_target(\"nvidia-mqpu\")\n",
    "qpu_count = cudaq.num_available_gpus()\n",
    "target = cudaq.get_target()\n",
    "qpu = target.num_qpus()\n",
    "print(\"Number of GPUs:\", qpu_count)\n",
    "print(\"Number of QPUs:\", qpu)"
   ]
  },
  {
   "cell_type": "code",
   "execution_count": 12,
   "id": "e97a5b8c-62cc-4c43-96b5-1012e5e2093e",
   "metadata": {
    "tags": []
   },
   "outputs": [
    {
     "name": "stdout",
     "output_type": "stream",
     "text": [
      "Target nvidia-mqpu-fp64\n",
      "\tsimulator=custatevec_fp64\n",
      "\tplatform=mqpu\n",
      "\tdescription=The NVIDIA MQPU FP64 Target provides a simulated QPU for every available CUDA GPU on the underlying system. Each QPU is simulated via cuStateVec FP64.\n",
      "\n",
      "Target density-matrix-cpu\n",
      "\tsimulator=dm\n",
      "\tplatform=default\n",
      "\tdescription=The Density Matrix CPU Target provides a simulated QPU via OpenMP-enabled, CPU-only density matrix emulation.\n",
      "\n",
      "Target iqm\n",
      "\tsimulator=qpp\n",
      "\tplatform=default\n",
      "\tdescription=\n",
      "\n",
      "Target tensornet\n",
      "\tsimulator=tensornet\n",
      "\tplatform=default\n",
      "\tdescription=\n",
      "\n",
      "Target nvidia-mqpu\n",
      "\tsimulator=custatevec_fp32\n",
      "\tplatform=mqpu\n",
      "\tdescription=The NVIDIA MQPU Target provides a simulated QPU for every available CUDA GPU on the underlying system. Each QPU is simulated via cuStateVec FP32. This target enables asynchronous parallel execution of quantum kernel tasks.\n",
      "\n",
      "Target qpp-cpu\n",
      "\tsimulator=qpp\n",
      "\tplatform=default\n",
      "\tdescription=QPP-based CPU-only backend target\n",
      "\n",
      "Target remote-mqpu\n",
      "\tsimulator=qpp\n",
      "\tplatform=mqpu\n",
      "\tdescription=\n",
      "\n",
      "Target orca\n",
      "\tsimulator=qpp\n",
      "\tplatform=default\n",
      "\tdescription=\n",
      "\n",
      "Target nvqc\n",
      "\tsimulator=qpp\n",
      "\tplatform=mqpu\n",
      "\tdescription=\n",
      "\n",
      "Target tensornet-mps\n",
      "\tsimulator=tensornet_mps\n",
      "\tplatform=default\n",
      "\tdescription=\n",
      "\n",
      "Target photonics\n",
      "\tsimulator=qpp\n",
      "\tplatform=default\n",
      "\tdescription=\n",
      "\n",
      "Target quantinuum\n",
      "\tsimulator=qpp\n",
      "\tplatform=default\n",
      "\tdescription=\n",
      "\n",
      "Target nvidia\n",
      "\tsimulator=custatevec_fp32\n",
      "\tplatform=default\n",
      "\tdescription=The NVIDIA Target provides a simulated QPU via single-GPU cuStateVec integration on FP32 types.\n",
      "\n",
      "Target nvidia-fp64\n",
      "\tsimulator=custatevec_fp64\n",
      "\tplatform=default\n",
      "\tdescription=The NVIDIA FP64 Target provides a simulated QPU via single-GPU cuStateVec integration on FP64 types.\n",
      "\n",
      "Target oqc\n",
      "\tsimulator=qpp\n",
      "\tplatform=default\n",
      "\tdescription=\n",
      "\n",
      "Target ionq\n",
      "\tsimulator=qpp\n",
      "\tplatform=default\n",
      "\tdescription=\n",
      "\n",
      "Target nvidia-mgpu\n",
      "\tsimulator=nvidia_mgpu\n",
      "\tplatform=default\n",
      "\tdescription=\n",
      "\n"
     ]
    }
   ],
   "source": [
    "import cudaq\n",
    "\n",
    "targets = cudaq.get_targets()\n",
    "for target in targets:\n",
    "    print(target)"
   ]
  },
  {
   "cell_type": "code",
   "execution_count": null,
   "id": "f9f11f5c-66c4-46c2-aeb3-4d5da7c7db10",
   "metadata": {},
   "outputs": [],
   "source": []
  },
  {
   "cell_type": "code",
   "execution_count": 49,
   "id": "eed5b3ab-fb8b-4dfd-b2ab-a073372158c8",
   "metadata": {
    "tags": []
   },
   "outputs": [
    {
     "ename": "AttributeError",
     "evalue": "'NoneType' object has no attribute 'name'",
     "output_type": "error",
     "traceback": [
      "\u001b[0;31m---------------------------------------------------------------------------\u001b[0m",
      "\u001b[0;31mAttributeError\u001b[0m                            Traceback (most recent call last)",
      "Cell \u001b[0;32mIn[49], line 8\u001b[0m\n\u001b[1;32m      3\u001b[0m kernel\u001b[38;5;241m.\u001b[39mx(qubits)\n\u001b[1;32m      5\u001b[0m \u001b[38;5;66;03m# Get the state of the system. This will execute the provided kernel\u001b[39;00m\n\u001b[1;32m      6\u001b[0m \u001b[38;5;66;03m# and, depending on the selected target, will return the state as a\u001b[39;00m\n\u001b[1;32m      7\u001b[0m \u001b[38;5;66;03m# vector or matrix.\u001b[39;00m\n\u001b[0;32m----> 8\u001b[0m \u001b[43mcudaq\u001b[49m\u001b[38;5;241;43m.\u001b[39;49m\u001b[43mget_state\u001b[49m\u001b[43m(\u001b[49m\u001b[43mkernel\u001b[49m\u001b[43m(\u001b[49m\u001b[38;5;241;43m3\u001b[39;49m\u001b[43m,\u001b[49m\u001b[43m \u001b[49m\u001b[38;5;241;43m3.14\u001b[39;49m\u001b[43m)\u001b[49m\u001b[43m)\u001b[49m\n\u001b[1;32m      9\u001b[0m \u001b[38;5;28mprint\u001b[39m(state)\n",
      "\u001b[0;31mAttributeError\u001b[0m: 'NoneType' object has no attribute 'name'"
     ]
    }
   ],
   "source": [
    "qubits = kernel.qalloc(3)\n",
    "# Prepare qubits in the 1-state.\n",
    "kernel.x(qubits)\n",
    "\n",
    "# Get the state of the system. This will execute the provided kernel\n",
    "# and, depending on the selected target, will return the state as a\n",
    "# vector or matrix.\n",
    "kernel(3, 3.14)\n",
    "cudaq.get_state()\n",
    "print(state)"
   ]
  },
  {
   "cell_type": "code",
   "execution_count": 1,
   "id": "b671a9f2-573a-47f5-bc63-66637dfcf0e1",
   "metadata": {
    "tags": []
   },
   "outputs": [
    {
     "name": "stdout",
     "output_type": "stream",
     "text": [
      "Number of QPUs: 1\n",
      "{ 10011:31 01100:32 00011:34 10101:43 00110:34 11111:35 01000:25 11000:25 00100:27 11010:28 00010:29 01101:25 01110:32 01010:32 01111:38 11110:30 10010:37 00111:32 11100:34 10111:35 10000:28 11011:33 10100:31 10110:34 00001:33 10001:21 00000:34 01001:33 11101:27 11001:30 00101:25 01011:33 }\n",
      "\n"
     ]
    }
   ],
   "source": [
    "import cudaq\n",
    "\n",
    "cudaq.set_target(\"nvidia-mqpu\")\n",
    "target = cudaq.get_target()\n",
    "qpu_count = target.num_qpus()\n",
    "print(\"Number of QPUs:\", qpu_count)\n",
    "\n",
    "\n",
    "@cudaq.kernel\n",
    "def kernel(qubit_count: int):\n",
    "    qvector = cudaq.qvector(qubit_count)\n",
    "    # Place qubits in superposition state.\n",
    "    h(qvector)\n",
    "    # Measure.\n",
    "    mz(qvector)\n",
    "\n",
    "\n",
    "count_futures = []\n",
    "for qpu in range(qpu_count):\n",
    "    count_futures.append(cudaq.sample_async(kernel, 5, qpu_id=qpu))\n",
    "\n",
    "for counts in count_futures:\n",
    "    print(counts.get())"
   ]
  },
  {
   "cell_type": "code",
   "execution_count": null,
   "id": "afbf9397-10b6-4a60-9a41-5379ad0387ab",
   "metadata": {},
   "outputs": [],
   "source": []
  }
 ],
 "metadata": {
  "kernelspec": {
   "display_name": "cuQuantum",
   "language": "python",
   "name": "cuquantum"
  },
  "language_info": {
   "codemirror_mode": {
    "name": "ipython",
    "version": 3
   },
   "file_extension": ".py",
   "mimetype": "text/x-python",
   "name": "python",
   "nbconvert_exporter": "python",
   "pygments_lexer": "ipython3",
   "version": "3.8.13"
  }
 },
 "nbformat": 4,
 "nbformat_minor": 5
}
