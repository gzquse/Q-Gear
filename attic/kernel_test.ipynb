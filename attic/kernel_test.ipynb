{
 "cells": [
  {
   "cell_type": "code",
   "execution_count": 1,
   "id": "a5405a18-ea93-4c01-a135-49b9049a6951",
   "metadata": {
    "tags": []
   },
   "outputs": [],
   "source": [
    "import cudaq"
   ]
  },
  {
   "cell_type": "code",
   "execution_count": 45,
   "id": "b472d9a0-f923-4121-abdd-4ca0a109f3f4",
   "metadata": {
    "tags": []
   },
   "outputs": [
    {
     "name": "stdout",
     "output_type": "stream",
     "text": [
      "['_QuakeValue__checkTypesAndCreateQuakeValue', '_QuakeValue__floatToVal', '_QuakeValue__intToFloat', '_QuakeValue__intToVal', '__add__', '__class__', '__delattr__', '__dict__', '__dir__', '__doc__', '__eq__', '__format__', '__ge__', '__getattribute__', '__getitem__', '__gt__', '__hash__', '__init__', '__init_subclass__', '__le__', '__lt__', '__module__', '__mul__', '__ne__', '__neg__', '__new__', '__radd__', '__reduce__', '__reduce_ex__', '__repr__', '__rmul__', '__rsub__', '__rtruediv__', '__setattr__', '__sizeof__', '__str__', '__sub__', '__subclasshook__', '__truediv__', '__weakref__', 'ctx', 'floatType', 'intType', 'knownUniqueExtractions', 'mlirValue', 'pyKernel', 'size', 'slice']\n"
     ]
    }
   ],
   "source": [
    "kernel, int_value, float_value = cudaq.make_kernel(int, float)\n",
    "print(dir(int_value))"
   ]
  },
  {
   "cell_type": "code",
   "execution_count": 49,
   "id": "eed5b3ab-fb8b-4dfd-b2ab-a073372158c8",
   "metadata": {
    "tags": []
   },
   "outputs": [
    {
     "ename": "AttributeError",
     "evalue": "'NoneType' object has no attribute 'name'",
     "output_type": "error",
     "traceback": [
      "\u001b[0;31m---------------------------------------------------------------------------\u001b[0m",
      "\u001b[0;31mAttributeError\u001b[0m                            Traceback (most recent call last)",
      "Cell \u001b[0;32mIn[49], line 8\u001b[0m\n\u001b[1;32m      3\u001b[0m kernel\u001b[38;5;241m.\u001b[39mx(qubits)\n\u001b[1;32m      5\u001b[0m \u001b[38;5;66;03m# Get the state of the system. This will execute the provided kernel\u001b[39;00m\n\u001b[1;32m      6\u001b[0m \u001b[38;5;66;03m# and, depending on the selected target, will return the state as a\u001b[39;00m\n\u001b[1;32m      7\u001b[0m \u001b[38;5;66;03m# vector or matrix.\u001b[39;00m\n\u001b[0;32m----> 8\u001b[0m \u001b[43mcudaq\u001b[49m\u001b[38;5;241;43m.\u001b[39;49m\u001b[43mget_state\u001b[49m\u001b[43m(\u001b[49m\u001b[43mkernel\u001b[49m\u001b[43m(\u001b[49m\u001b[38;5;241;43m3\u001b[39;49m\u001b[43m,\u001b[49m\u001b[43m \u001b[49m\u001b[38;5;241;43m3.14\u001b[39;49m\u001b[43m)\u001b[49m\u001b[43m)\u001b[49m\n\u001b[1;32m      9\u001b[0m \u001b[38;5;28mprint\u001b[39m(state)\n",
      "\u001b[0;31mAttributeError\u001b[0m: 'NoneType' object has no attribute 'name'"
     ]
    }
   ],
   "source": [
    "qubits = kernel.qalloc(3)\n",
    "# Prepare qubits in the 1-state.\n",
    "kernel.x(qubits)\n",
    "\n",
    "# Get the state of the system. This will execute the provided kernel\n",
    "# and, depending on the selected target, will return the state as a\n",
    "# vector or matrix.\n",
    "kernel(3, 3.14)\n",
    "cudaq.get_state()\n",
    "print(state)"
   ]
  },
  {
   "cell_type": "code",
   "execution_count": 1,
   "id": "b671a9f2-573a-47f5-bc63-66637dfcf0e1",
   "metadata": {
    "tags": []
   },
   "outputs": [
    {
     "name": "stdout",
     "output_type": "stream",
     "text": [
      "Number of QPUs: 1\n",
      "{ 10011:31 01100:32 00011:34 10101:43 00110:34 11111:35 01000:25 11000:25 00100:27 11010:28 00010:29 01101:25 01110:32 01010:32 01111:38 11110:30 10010:37 00111:32 11100:34 10111:35 10000:28 11011:33 10100:31 10110:34 00001:33 10001:21 00000:34 01001:33 11101:27 11001:30 00101:25 01011:33 }\n",
      "\n"
     ]
    }
   ],
   "source": [
    "import cudaq\n",
    "\n",
    "cudaq.set_target(\"nvidia-mqpu\")\n",
    "target = cudaq.get_target()\n",
    "qpu_count = target.num_qpus()\n",
    "print(\"Number of QPUs:\", qpu_count)\n",
    "\n",
    "\n",
    "@cudaq.kernel\n",
    "def kernel(qubit_count: int):\n",
    "    qvector = cudaq.qvector(qubit_count)\n",
    "    # Place qubits in superposition state.\n",
    "    h(qvector)\n",
    "    # Measure.\n",
    "    mz(qvector)\n",
    "\n",
    "\n",
    "count_futures = []\n",
    "for qpu in range(qpu_count):\n",
    "    count_futures.append(cudaq.sample_async(kernel, 5, qpu_id=qpu))\n",
    "\n",
    "for counts in count_futures:\n",
    "    print(counts.get())"
   ]
  },
  {
   "cell_type": "code",
   "execution_count": null,
   "id": "afbf9397-10b6-4a60-9a41-5379ad0387ab",
   "metadata": {},
   "outputs": [],
   "source": []
  }
 ],
 "metadata": {
  "kernelspec": {
   "display_name": "cuQuantum",
   "language": "python",
   "name": "cuquantum"
  },
  "language_info": {
   "codemirror_mode": {
    "name": "ipython",
    "version": 3
   },
   "file_extension": ".py",
   "mimetype": "text/x-python",
   "name": "python",
   "nbconvert_exporter": "python",
   "pygments_lexer": "ipython3",
   "version": "3.8.13"
  }
 },
 "nbformat": 4,
 "nbformat_minor": 5
}
